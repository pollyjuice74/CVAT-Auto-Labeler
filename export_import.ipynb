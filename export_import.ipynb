{
 "cells": [
  {
   "cell_type": "code",
   "execution_count": null,
   "metadata": {},
   "outputs": [],
   "source": [
    "### WARNING: MAKE SURE THE IMPORT ZIP CONTAINS HUMAN SUPERVISED LABELED IMAGES, IF NOT IT MAY LEAD TO A MODEL/HUMAN LABELED DATASET ###\n",
    "\n",
    "# Exporting imgs\n",
    "from scripts.import_from_cvat import *\n",
    "\n",
    "dataset_output_dir = '/home/mhernandez/datasets/pose_4_key_points'\n",
    "zip_file_path = '/home/mhernandez/datasets/pose_4_key_points/import_zips/pose_importing_tst.zip'\n",
    "\n",
    "# use locally: scp /mnt/c/Users/Mhern/Downloads/pose_importing_tst.zip mhernandez@136.145.54.43:~/datasets/pose_4_key_points/import_zips\n",
    "import_from_cvat(zip_file_path, dataset_output_dir, train_split=0.6, val_split=0.2, test_split=0.2, export_format='yolo_pose') \n",
    "\n",
    "### Usage: ###\n",
    "# Specify cvat exported format.\n",
    "# Make sure .jpg files are in unlabeled/ folder. The script will search for .jpg files in said folder and move the labels that match to labels/ folder in corresponding split with images/ folder.\n",
    "# For both detect and pose tasks this applies."
   ]
  },
  {
   "cell_type": "code",
   "execution_count": null,
   "metadata": {},
   "outputs": [],
   "source": [
    "# Refine model \n",
    "from ultralytics import YOLO\n",
    "\n",
    "model_path = '/home/mhernandez/datasets/pose_4_key_points/runs/pose/train/weights/best.pt'\n",
    "yaml_path = '/home/mhernandez/datasets/pose_4_key_points/yamls/dataset.yaml'\n",
    "\n",
    "model = YOLO(model_path)\n",
    "results = model.train(data=yaml_path, epochs=3000, imgsz=(2560, 1440), batch=4)"
   ]
  },
  {
   "cell_type": "code",
   "execution_count": null,
   "metadata": {},
   "outputs": [],
   "source": [
    "# Sample new img files\n",
    "from scripts.sample_Gurabo import sample_Gurabo\n",
    "\n",
    "base_path = '/mnt/storage/Gurabo/datasets/gurabo10/mp4/'\n",
    "dataset_output_dir = '/home/mhernandez/datasets/pose_detection/img_samples'\n",
    "\n",
    "sample_Gurabo(base_path, dataset_output_dir, sample_colonie_times=2, sample_files_times=1000)"
   ]
  },
  {
   "cell_type": "code",
   "execution_count": null,
   "metadata": {},
   "outputs": [],
   "source": [
    "# Automate img labeling\n",
    "from scripts.img_labeler import label_files\n",
    "\n",
    "# model paths\n",
    "pose_model_path = '/home/mhernandez/datasets/frames/runs/pose/train/weights/best.pt'\n",
    "flower_patch_model_path = '/home/jrodriguez/mario_models/flowerpatch-detect/yolov8s-flowerpatch-detect-model.pt'\n",
    "box_model_path = '/home/mhernandez/bees_test_yolo/notebooks/model_runs/box_runs/detect/train/weights/last.pt'\n",
    "\n",
    "unlabeled_files_dir = '/home/mhernandez/datasets/tst_frames/unlabeled'\n",
    "\n",
    "label_files(box_model_path, unlabeled_files_dir, label_format='yolo_detect')\n",
    "\n",
    "### Usage: ###\n",
    "# Labels unlabeled/ folder specified path and stores labels in the same folder."
   ]
  },
  {
   "cell_type": "code",
   "execution_count": 5,
   "metadata": {},
   "outputs": [
    {
     "name": "stdout",
     "output_type": "stream",
     "text": [
      "CVAT-compatible YOLO detect zip created at /home/mhernandez/datasets/tst_frames/export_zips/detect_tst.zip\n"
     ]
    }
   ],
   "source": [
    "# Importing imgs to CVAT\n",
    "from scripts.export2cvat import *\n",
    "\n",
    "labeled_files_dir = '/home/mhernandez/datasets/tst_frames/unlabeled' # after passing model on 'unlabeled' folder\n",
    "zip_output_path = '/home/mhernandez/datasets/tst_frames/export_zips'\n",
    "\n",
    "export_to_cvat_yolo(labeled_files_dir, zip_output_path, export_format='yolo_detect', classes=['bee'], export_filename='detect_tst.zip', labeled=True)\n",
    "\n",
    "# WARNING: Create a new task, separate from the task that was manually labeled, since the exported generated labels don't include manually created labels. It will overwrite and delete manual labels.\n",
    "\n",
    "### Usage: ###\n",
    "# 1) Export to your local Downloads folder using this command (modify for your specific path):\n",
    "#    scp -v mhernandez@136.145.54.43:~/datasets/tst_frames/export_zips/detect_tst.zip /mnt/c/Users/Mhern/Downloads\n",
    "# 2) Create a new task of the images you labeled if you don't already have one made.\n",
    "# 3) On the task's 'Actions', click 'Upload annotations' as 'YOLO 1.1' for bounding box annotations or 'YOLOv8 Pose 1.0' for pose annotations format."
   ]
  }
 ],
 "metadata": {
  "kernelspec": {
   "display_name": "ultralytics_trt",
   "language": "python",
   "name": "python3"
  },
  "language_info": {
   "codemirror_mode": {
    "name": "ipython",
    "version": 3
   },
   "file_extension": ".py",
   "mimetype": "text/x-python",
   "name": "python",
   "nbconvert_exporter": "python",
   "pygments_lexer": "ipython3",
   "version": "3.8.20"
  }
 },
 "nbformat": 4,
 "nbformat_minor": 2
}
